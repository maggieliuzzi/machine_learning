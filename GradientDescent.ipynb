{
  "nbformat": 4,
  "nbformat_minor": 0,
  "metadata": {
    "colab": {
      "name": "GradientDescent.ipynb",
      "provenance": [],
      "authorship_tag": "ABX9TyNIHAcsBcQ2+s5jz3FZtgkf",
      "include_colab_link": true
    },
    "kernelspec": {
      "name": "python3",
      "display_name": "Python 3"
    }
  },
  "cells": [
    {
      "cell_type": "markdown",
      "metadata": {
        "id": "view-in-github",
        "colab_type": "text"
      },
      "source": [
        "<a href=\"https://colab.research.google.com/github/maggieliuzzi/machine_learning/blob/master/GradientDescent.ipynb\" target=\"_parent\"><img src=\"https://colab.research.google.com/assets/colab-badge.svg\" alt=\"Open In Colab\"/></a>"
      ]
    },
    {
      "cell_type": "markdown",
      "metadata": {
        "id": "4h90X9bl3Huk",
        "colab_type": "text"
      },
      "source": [
        "**Batch Gradient Descent**\n",
        "Uses the whole training batch to compute the gradients at every step."
      ]
    },
    {
      "cell_type": "code",
      "metadata": {
        "id": "-IxDBU014Tqo",
        "colab_type": "code",
        "colab": {}
      },
      "source": [
        "import numpy as np\n",
        "import matplotlib.pyplot as plt"
      ],
      "execution_count": 0,
      "outputs": []
    },
    {
      "cell_type": "code",
      "metadata": {
        "id": "RX6MmTvL4QEV",
        "colab_type": "code",
        "colab": {
          "base_uri": "https://localhost:8080/",
          "height": 1000
        },
        "outputId": "a9f39571-dc79-4d15-815d-1532c0ebf575"
      },
      "source": [
        "X = 2 * np.random.rand(100, 1)\n",
        "y = 4 + 3 * X + np.random.randn(100, 1)\n",
        "print(X)\n",
        "print(y)"
      ],
      "execution_count": 17,
      "outputs": [
        {
          "output_type": "stream",
          "text": [
            "[[1.80794562]\n",
            " [0.42364256]\n",
            " [0.06048084]\n",
            " [1.15880479]\n",
            " [0.02792316]\n",
            " [1.3089245 ]\n",
            " [1.12877811]\n",
            " [1.77135031]\n",
            " [1.94722848]\n",
            " [0.03438215]\n",
            " [1.18313764]\n",
            " [0.65341018]\n",
            " [1.8116301 ]\n",
            " [1.11964389]\n",
            " [0.00446961]\n",
            " [1.14799944]\n",
            " [0.16588108]\n",
            " [0.53683762]\n",
            " [0.76708011]\n",
            " [0.58424927]\n",
            " [0.55815688]\n",
            " [1.41545323]\n",
            " [0.79205877]\n",
            " [0.30693781]\n",
            " [1.86267432]\n",
            " [0.32262196]\n",
            " [1.59863243]\n",
            " [0.7062173 ]\n",
            " [0.9014392 ]\n",
            " [1.40487597]\n",
            " [1.71467785]\n",
            " [0.18415388]\n",
            " [1.5013147 ]\n",
            " [1.73585041]\n",
            " [1.39622401]\n",
            " [0.21427371]\n",
            " [1.11180235]\n",
            " [1.42337634]\n",
            " [0.28813047]\n",
            " [1.31339768]\n",
            " [0.99198661]\n",
            " [1.69717364]\n",
            " [0.22415017]\n",
            " [0.53852142]\n",
            " [1.88041951]\n",
            " [0.3351729 ]\n",
            " [1.81835332]\n",
            " [0.79845739]\n",
            " [0.30934184]\n",
            " [1.70783333]\n",
            " [0.63836387]\n",
            " [1.27879385]\n",
            " [0.82599984]\n",
            " [1.35280967]\n",
            " [0.27361363]\n",
            " [0.28371923]\n",
            " [1.3579846 ]\n",
            " [0.0636915 ]\n",
            " [0.12849563]\n",
            " [1.60602408]\n",
            " [0.58616331]\n",
            " [1.70153204]\n",
            " [0.80483091]\n",
            " [1.32828632]\n",
            " [1.39464376]\n",
            " [1.53539887]\n",
            " [0.43923226]\n",
            " [0.96771794]\n",
            " [0.94619145]\n",
            " [1.23919106]\n",
            " [1.51258101]\n",
            " [0.84545898]\n",
            " [0.70364229]\n",
            " [0.08149229]\n",
            " [1.35378735]\n",
            " [0.07312759]\n",
            " [1.33947867]\n",
            " [0.00566948]\n",
            " [0.08390753]\n",
            " [0.42073941]\n",
            " [1.44591176]\n",
            " [1.47707144]\n",
            " [0.00970592]\n",
            " [1.21669593]\n",
            " [1.24041868]\n",
            " [0.24999187]\n",
            " [0.60836145]\n",
            " [1.62792904]\n",
            " [0.87844449]\n",
            " [1.82760135]\n",
            " [0.11166635]\n",
            " [0.48091906]\n",
            " [1.42074376]\n",
            " [0.72854141]\n",
            " [0.83786126]\n",
            " [1.23571624]\n",
            " [0.71066417]\n",
            " [1.9107401 ]\n",
            " [0.06299501]\n",
            " [0.18063471]]\n",
            "[[ 9.79514015]\n",
            " [ 4.56095713]\n",
            " [ 2.16203265]\n",
            " [ 6.13473817]\n",
            " [ 2.38455888]\n",
            " [ 8.35697476]\n",
            " [ 7.5214449 ]\n",
            " [ 8.51014093]\n",
            " [10.7777066 ]\n",
            " [ 3.88885492]\n",
            " [ 7.6821521 ]\n",
            " [ 7.9500332 ]\n",
            " [ 8.53496053]\n",
            " [ 9.08965443]\n",
            " [ 6.17415828]\n",
            " [ 7.86991707]\n",
            " [ 3.66118615]\n",
            " [ 5.0347134 ]\n",
            " [ 5.7595072 ]\n",
            " [ 5.98664466]\n",
            " [ 4.50273488]\n",
            " [ 8.91655822]\n",
            " [ 7.09104419]\n",
            " [ 2.98249942]\n",
            " [ 9.06677649]\n",
            " [ 5.7307736 ]\n",
            " [ 9.65555043]\n",
            " [ 8.15139037]\n",
            " [ 8.45824362]\n",
            " [ 7.85034174]\n",
            " [ 7.43718378]\n",
            " [ 4.86761553]\n",
            " [ 8.71061515]\n",
            " [ 9.5885349 ]\n",
            " [ 8.76307318]\n",
            " [ 4.69327507]\n",
            " [ 7.33739526]\n",
            " [ 7.63052618]\n",
            " [ 6.19399358]\n",
            " [ 5.58762474]\n",
            " [ 6.98480714]\n",
            " [ 9.70228986]\n",
            " [ 5.11511271]\n",
            " [ 5.80704018]\n",
            " [ 9.09051785]\n",
            " [ 5.41560349]\n",
            " [ 7.8046371 ]\n",
            " [ 7.8752182 ]\n",
            " [ 5.44600631]\n",
            " [ 8.12575357]\n",
            " [ 6.70359243]\n",
            " [ 7.09707343]\n",
            " [ 5.93705504]\n",
            " [ 8.31312104]\n",
            " [ 4.3833266 ]\n",
            " [ 4.63915884]\n",
            " [ 8.31043394]\n",
            " [ 3.81341022]\n",
            " [ 2.70856749]\n",
            " [ 8.28291782]\n",
            " [ 6.10192893]\n",
            " [ 8.98045343]\n",
            " [ 5.81339733]\n",
            " [ 9.64459709]\n",
            " [ 6.18186652]\n",
            " [ 8.50054809]\n",
            " [ 4.81674405]\n",
            " [ 6.97830644]\n",
            " [ 6.82188057]\n",
            " [ 7.45349423]\n",
            " [ 8.55316971]\n",
            " [ 5.80902904]\n",
            " [ 6.90492051]\n",
            " [ 5.44866209]\n",
            " [10.41158612]\n",
            " [ 2.70666731]\n",
            " [10.26036088]\n",
            " [ 6.21836057]\n",
            " [ 6.20261353]\n",
            " [ 6.26992452]\n",
            " [ 8.23384386]\n",
            " [ 9.202041  ]\n",
            " [ 4.68585875]\n",
            " [ 9.49135901]\n",
            " [ 7.28137136]\n",
            " [ 5.32122561]\n",
            " [ 6.88184919]\n",
            " [ 9.40992878]\n",
            " [ 7.70078202]\n",
            " [ 8.09135129]\n",
            " [ 5.66175678]\n",
            " [ 5.23039866]\n",
            " [ 7.51685726]\n",
            " [ 6.69853807]\n",
            " [ 5.99357518]\n",
            " [ 8.55871681]\n",
            " [ 6.37240005]\n",
            " [ 9.69007713]\n",
            " [ 4.40879335]\n",
            " [ 5.89472235]]\n"
          ],
          "name": "stdout"
        }
      ]
    },
    {
      "cell_type": "code",
      "metadata": {
        "id": "6uPQHWWY4jgS",
        "colab_type": "code",
        "colab": {
          "base_uri": "https://localhost:8080/",
          "height": 282
        },
        "outputId": "c6e0f713-c4db-4cdc-87ab-962919496b53"
      },
      "source": [
        "plt.scatter(X, y)"
      ],
      "execution_count": 15,
      "outputs": [
        {
          "output_type": "execute_result",
          "data": {
            "text/plain": [
              "<matplotlib.collections.PathCollection at 0x7f9c2d4194a8>"
            ]
          },
          "metadata": {
            "tags": []
          },
          "execution_count": 15
        },
        {
          "output_type": "display_data",
          "data": {
            "image/png": "[encoded data removed]",
            "text/plain": [
              "<Figure size 432x288 with 1 Axes>"
            ]
          },
          "metadata": {
            "tags": [],
            "needs_background": "light"
          }
        }
      ]
    },
    {
      "cell_type": "code",
      "metadata": {
        "id": "pDd31k1j4jsa",
        "colab_type": "code",
        "colab": {
          "base_uri": "https://localhost:8080/",
          "height": 1000
        },
        "outputId": "e8f7b94b-67fb-40e8-a372-0f18a3984572"
      },
      "source": [
        "X_b = np.c_[np.ones((100, 1)), X] # add x0 = 1 to each instance\n",
        "X_b"
      ],
      "execution_count": 19,
      "outputs": [
        {
          "output_type": "execute_result",
          "data": {
            "text/plain": [
              "array([[1.        , 1.80794562],\n",
              "       [1.        , 0.42364256],\n",
              "       [1.        , 0.06048084],\n",
              "       [1.        , 1.15880479],\n",
              "       [1.        , 0.02792316],\n",
              "       [1.        , 1.3089245 ],\n",
              "       [1.        , 1.12877811],\n",
              "       [1.        , 1.77135031],\n",
              "       [1.        , 1.94722848],\n",
              "       [1.        , 0.03438215],\n",
              "       [1.        , 1.18313764],\n",
              "       [1.        , 0.65341018],\n",
              "       [1.        , 1.8116301 ],\n",
              "       [1.        , 1.11964389],\n",
              "       [1.        , 0.00446961],\n",
              "       [1.        , 1.14799944],\n",
              "       [1.        , 0.16588108],\n",
              "       [1.        , 0.53683762],\n",
              "       [1.        , 0.76708011],\n",
              "       [1.        , 0.58424927],\n",
              "       [1.        , 0.55815688],\n",
              "       [1.        , 1.41545323],\n",
              "       [1.        , 0.79205877],\n",
              "       [1.        , 0.30693781],\n",
              "       [1.        , 1.86267432],\n",
              "       [1.        , 0.32262196],\n",
              "       [1.        , 1.59863243],\n",
              "       [1.        , 0.7062173 ],\n",
              "       [1.        , 0.9014392 ],\n",
              "       [1.        , 1.40487597],\n",
              "       [1.        , 1.71467785],\n",
              "       [1.        , 0.18415388],\n",
              "       [1.        , 1.5013147 ],\n",
              "       [1.        , 1.73585041],\n",
              "       [1.        , 1.39622401],\n",
              "       [1.        , 0.21427371],\n",
              "       [1.        , 1.11180235],\n",
              "       [1.        , 1.42337634],\n",
              "       [1.        , 0.28813047],\n",
              "       [1.        , 1.31339768],\n",
              "       [1.        , 0.99198661],\n",
              "       [1.        , 1.69717364],\n",
              "       [1.        , 0.22415017],\n",
              "       [1.        , 0.53852142],\n",
              "       [1.        , 1.88041951],\n",
              "       [1.        , 0.3351729 ],\n",
              "       [1.        , 1.81835332],\n",
              "       [1.        , 0.79845739],\n",
              "       [1.        , 0.30934184],\n",
              "       [1.        , 1.70783333],\n",
              "       [1.        , 0.63836387],\n",
              "       [1.        , 1.27879385],\n",
              "       [1.        , 0.82599984],\n",
              "       [1.        , 1.35280967],\n",
              "       [1.        , 0.27361363],\n",
              "       [1.        , 0.28371923],\n",
              "       [1.        , 1.3579846 ],\n",
              "       [1.        , 0.0636915 ],\n",
              "       [1.        , 0.12849563],\n",
              "       [1.        , 1.60602408],\n",
              "       [1.        , 0.58616331],\n",
              "       [1.        , 1.70153204],\n",
              "       [1.        , 0.80483091],\n",
              "       [1.        , 1.32828632],\n",
              "       [1.        , 1.39464376],\n",
              "       [1.        , 1.53539887],\n",
              "       [1.        , 0.43923226],\n",
              "       [1.        , 0.96771794],\n",
              "       [1.        , 0.94619145],\n",
              "       [1.        , 1.23919106],\n",
              "       [1.        , 1.51258101],\n",
              "       [1.        , 0.84545898],\n",
              "       [1.        , 0.70364229],\n",
              "       [1.        , 0.08149229],\n",
              "       [1.        , 1.35378735],\n",
              "       [1.        , 0.07312759],\n",
              "       [1.        , 1.33947867],\n",
              "       [1.        , 0.00566948],\n",
              "       [1.        , 0.08390753],\n",
              "       [1.        , 0.42073941],\n",
              "       [1.        , 1.44591176],\n",
              "       [1.        , 1.47707144],\n",
              "       [1.        , 0.00970592],\n",
              "       [1.        , 1.21669593],\n",
              "       [1.        , 1.24041868],\n",
              "       [1.        , 0.24999187],\n",
              "       [1.        , 0.60836145],\n",
              "       [1.        , 1.62792904],\n",
              "       [1.        , 0.87844449],\n",
              "       [1.        , 1.82760135],\n",
              "       [1.        , 0.11166635],\n",
              "       [1.        , 0.48091906],\n",
              "       [1.        , 1.42074376],\n",
              "       [1.        , 0.72854141],\n",
              "       [1.        , 0.83786126],\n",
              "       [1.        , 1.23571624],\n",
              "       [1.        , 0.71066417],\n",
              "       [1.        , 1.9107401 ],\n",
              "       [1.        , 0.06299501],\n",
              "       [1.        , 0.18063471]])"
            ]
          },
          "metadata": {
            "tags": []
          },
          "execution_count": 19
        }
      ]
    },
    {
      "cell_type": "markdown",
      "metadata": {
        "id": "tsd4Tkb44_Wt",
        "colab_type": "text"
      },
      "source": [
        "**Analytical Solution**"
      ]
    },
    {
      "cell_type": "code",
      "metadata": {
        "id": "CzRdQ6Yr4St6",
        "colab_type": "code",
        "colab": {
          "base_uri": "https://localhost:8080/",
          "height": 51
        },
        "outputId": "cf0b667c-715e-473b-c503-ec35d50e0df3"
      },
      "source": [
        "theta_best = np.linalg.inv(X_b.T.dot(X_b)).dot(X_b.T).dot(y)\n",
        "theta_best"
      ],
      "execution_count": 20,
      "outputs": [
        {
          "output_type": "execute_result",
          "data": {
            "text/plain": [
              "array([[4.33848259],\n",
              "       [2.76951262]])"
            ]
          },
          "metadata": {
            "tags": []
          },
          "execution_count": 20
        }
      ]
    },
    {
      "cell_type": "code",
      "metadata": {
        "id": "cIAen3wK5KVQ",
        "colab_type": "code",
        "colab": {
          "base_uri": "https://localhost:8080/",
          "height": 316
        },
        "outputId": "f879d49c-d3f9-458c-8c3d-7f1ab57d26af"
      },
      "source": [
        "X_new = np.array([[0], [2]])\n",
        "X_new_b = np.c_[np.ones((2, 1)), X_new] # add x0 = 1 to each instance\n",
        "y_predict = X_new_b.dot(theta_best)\n",
        "print(y_predict)\n",
        "plt.plot(X_new, y_predict, \"r-\")\n",
        "plt.plot(X, y, \"b.\")"
      ],
      "execution_count": 21,
      "outputs": [
        {
          "output_type": "stream",
          "text": [
            "[[4.33848259]\n",
            " [9.87750783]]\n"
          ],
          "name": "stdout"
        },
        {
          "output_type": "execute_result",
          "data": {
            "text/plain": [
              "[<matplotlib.lines.Line2D at 0x7f9c2d3c8240>]"
            ]
          },
          "metadata": {
            "tags": []
          },
          "execution_count": 21
        },
        {
          "output_type": "display_data",
          "data": {
            "image/png": "[encoded data removed]",
            "text/plain": [
              "<Figure size 432x288 with 1 Axes>"
            ]
          },
          "metadata": {
            "tags": [],
            "needs_background": "light"
          }
        }
      ]
    },
    {
      "cell_type": "markdown",
      "metadata": {
        "id": "EVf0r_s_5BOs",
        "colab_type": "text"
      },
      "source": [
        "Batch Gradient Descent"
      ]
    },
    {
      "cell_type": "code",
      "metadata": {
        "id": "ZV_vP_Tr2bJW",
        "colab_type": "code",
        "colab": {}
      },
      "source": [
        "eta = 0.1 # learning rate \n",
        "n_iterations = 1000 \n",
        "m=100\n",
        "theta = np.random.randn(2,1) # random initialization"
      ],
      "execution_count": 0,
      "outputs": []
    },
    {
      "cell_type": "code",
      "metadata": {
        "id": "-DdAEosq3HA-",
        "colab_type": "code",
        "colab": {}
      },
      "source": [
        "for iteration in range(n_iterations):\n",
        "  gradients = 2/m * X_b.T.dot(X_b.dot(theta) - y) \n",
        "  theta = theta - eta * gradients"
      ],
      "execution_count": 0,
      "outputs": []
    },
    {
      "cell_type": "code",
      "metadata": {
        "id": "fS-wYj2T56hK",
        "colab_type": "code",
        "colab": {
          "base_uri": "https://localhost:8080/",
          "height": 316
        },
        "outputId": "48fd54ff-6b98-497d-aca6-4acfbe5462fa"
      },
      "source": [
        "X_new = np.array([[0], [2]])\n",
        "X_new_b = np.c_[np.ones((2, 1)), X_new] # add x0 = 1 to each instance\n",
        "y_predict = X_new_b.dot(theta)\n",
        "print(y_predict)\n",
        "plt.plot(X_new, y_predict, \"r-\")\n",
        "plt.plot(X, y, \"b.\")"
      ],
      "execution_count": 24,
      "outputs": [
        {
          "output_type": "stream",
          "text": [
            "[[4.33848259]\n",
            " [9.87750783]]\n"
          ],
          "name": "stdout"
        },
        {
          "output_type": "execute_result",
          "data": {
            "text/plain": [
              "[<matplotlib.lines.Line2D at 0x7f9c2d356550>]"
            ]
          },
          "metadata": {
            "tags": []
          },
          "execution_count": 24
        },
        {
          "output_type": "display_data",
          "data": {
            "image/png": "[encoded data removed]",
            "text/plain": [
              "<Figure size 432x288 with 1 Axes>"
            ]
          },
          "metadata": {
            "tags": [],
            "needs_background": "light"
          }
        }
      ]
    },
    {
      "cell_type": "markdown",
      "metadata": {
        "id": "SsA5eX8Z7WRh",
        "colab_type": "text"
      },
      "source": [
        "**Stochastic Gradient Descent**\n",
        "Picks a random instance in the training set at every step and computes the gradients based only on that single instance.\n",
        "It can be enhanced by adding a learning schedule."
      ]
    },
    {
      "cell_type": "code",
      "metadata": {
        "id": "FsySjm_37gKw",
        "colab_type": "code",
        "colab": {}
      },
      "source": [
        "n_epochs = 50  # faster\n",
        "t0, t1 = 5, 50 # learning schedule hyperparameters\n",
        "\n",
        "def learning_schedule(t): \n",
        "  return t0/(t+t1)\n",
        "\n",
        "theta = np.random.randn(2,1) # random initialization\n",
        "\n",
        "for epoch in range(n_epochs): \n",
        "  for i in range(m):\n",
        "    random_index = np.random.randint(m)\n",
        "    xi = X_b[random_index:random_index+1]\n",
        "    yi = y[random_index:random_index+1]\n",
        "    gradients = 2 * xi.T.dot(xi.dot(theta) - yi)\n",
        "    eta = learning_schedule(epoch * m + i)\n",
        "    theta = theta - eta * gradients"
      ],
      "execution_count": 0,
      "outputs": []
    },
    {
      "cell_type": "code",
      "metadata": {
        "id": "DKkWOwLG73PX",
        "colab_type": "code",
        "colab": {
          "base_uri": "https://localhost:8080/",
          "height": 316
        },
        "outputId": "4416350c-4100-486c-c69c-0ec0f4d5e7b9"
      },
      "source": [
        "X_new = np.array([[0], [2]])\n",
        "X_new_b = np.c_[np.ones((2, 1)), X_new] # add x0 = 1 to each instance\n",
        "y_predict = X_new_b.dot(theta)\n",
        "print(y_predict)\n",
        "plt.plot(X_new, y_predict, \"r-\")\n",
        "plt.plot(X, y, \"b.\")"
      ],
      "execution_count": 27,
      "outputs": [
        {
          "output_type": "stream",
          "text": [
            "[[4.38074578]\n",
            " [9.94737893]]\n"
          ],
          "name": "stdout"
        },
        {
          "output_type": "execute_result",
          "data": {
            "text/plain": [
              "[<matplotlib.lines.Line2D at 0x7f9c2d2c4278>]"
            ]
          },
          "metadata": {
            "tags": []
          },
          "execution_count": 27
        },
        {
          "output_type": "display_data",
          "data": {
            "image/png": "[encoded data removed]",
            "text/plain": [
              "<Figure size 432x288 with 1 Axes>"
            ]
          },
          "metadata": {
            "tags": [],
            "needs_background": "light"
          }
        }
      ]
    },
    {
      "cell_type": "code",
      "metadata": {
        "id": "jXYCGuwe9IeP",
        "colab_type": "code",
        "colab": {
          "base_uri": "https://localhost:8080/",
          "height": 119
        },
        "outputId": "7fa74384-d562-4b4b-cb3e-acd1d57339f8"
      },
      "source": [
        "from sklearn.linear_model import SGDRegressor\n",
        "\n",
        "sgd_reg = SGDRegressor(max_iter=1000, tol=1e-3, penalty=None, eta0=0.1) \n",
        "sgd_reg.fit(X, y.ravel())"
      ],
      "execution_count": 29,
      "outputs": [
        {
          "output_type": "execute_result",
          "data": {
            "text/plain": [
              "SGDRegressor(alpha=0.0001, average=False, early_stopping=False, epsilon=0.1,\n",
              "             eta0=0.1, fit_intercept=True, l1_ratio=0.15,\n",
              "             learning_rate='invscaling', loss='squared_loss', max_iter=1000,\n",
              "             n_iter_no_change=5, penalty=None, power_t=0.25, random_state=None,\n",
              "             shuffle=True, tol=0.001, validation_fraction=0.1, verbose=0,\n",
              "             warm_start=False)"
            ]
          },
          "metadata": {
            "tags": []
          },
          "execution_count": 29
        }
      ]
    },
    {
      "cell_type": "code",
      "metadata": {
        "id": "W3htVbzr9PEK",
        "colab_type": "code",
        "colab": {
          "base_uri": "https://localhost:8080/",
          "height": 34
        },
        "outputId": "631d9a5b-8c2b-4e10-f54d-07b89846faae"
      },
      "source": [
        "sgd_reg.intercept_, sgd_reg.coef_"
      ],
      "execution_count": 30,
      "outputs": [
        {
          "output_type": "execute_result",
          "data": {
            "text/plain": [
              "(array([4.31559679]), array([2.78111951]))"
            ]
          },
          "metadata": {
            "tags": []
          },
          "execution_count": 30
        }
      ]
    },
    {
      "cell_type": "markdown",
      "metadata": {
        "id": "9RAregLM9jjr",
        "colab_type": "text"
      },
      "source": [
        "**Mini-Batch Gradient Descent**\n",
        "Computes the gradients on small random sets of instances.\n",
        "(In comparison to SGD), possible performance boost from hardware optimization of matrix operations, especially when using GPUs."
      ]
    }
  ]
}